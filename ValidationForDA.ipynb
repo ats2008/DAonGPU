{
 "cells": [
  {
   "cell_type": "code",
   "execution_count": null,
   "metadata": {},
   "outputs": [],
   "source": [
    "import numpy as np\n",
    "import matplotlib.pyplot as plt"
   ]
  },
  {
   "cell_type": "code",
   "execution_count": null,
   "metadata": {},
   "outputs": [],
   "source": [
    "zt=np.array([0,1,2,3,4.0,15,16,17,18,19,30,31,32,33,34])\n",
    "dz2=zt*0.0+1.0\n",
    "pi=zt*0.0+1.0\n",
    "print(zt.shape)"
   ]
  },
  {
   "cell_type": "code",
   "execution_count": null,
   "metadata": {},
   "outputs": [],
   "source": [
    "zk=np.array([17.0])\n",
    "pik=[]\n",
    "for i in zk:\n",
    "    pik.append(zt*0.0+1.0)\n",
    "pik=np.array(pik)"
   ]
  },
  {
   "cell_type": "code",
   "execution_count": null,
   "metadata": {},
   "outputs": [],
   "source": [
    "zv_idx=0"
   ]
  },
  {
   "cell_type": "code",
   "execution_count": null,
   "metadata": {},
   "outputs": [],
   "source": [
    "pi*pik[zv_idx]*(zt-zk[zv_idx])**2/dz2**2 "
   ]
  },
  {
   "cell_type": "code",
   "execution_count": null,
   "metadata": {},
   "outputs": [],
   "source": [
    "pi*pik[zv_idx] /dz2"
   ]
  },
  {
   "cell_type": "code",
   "execution_count": null,
   "metadata": {},
   "outputs": [],
   "source": [
    "np.sum( pi*pik[zv_idx]*(zt-zk[zv_idx])**2/dz2**2   )"
   ]
  },
  {
   "cell_type": "code",
   "execution_count": null,
   "metadata": {},
   "outputs": [],
   "source": [
    "1156.000000 + 1089.000000"
   ]
  },
  {
   "cell_type": "code",
   "execution_count": null,
   "metadata": {},
   "outputs": [],
   "source": [
    "for zv_idx in range(len(zk)):\n",
    "    num  =2*np.sum( pi*pik[zv_idx]*(zt-zk[zv_idx])**2/dz2**2   )\n",
    "    deno =np.sum( pi*pik[zv_idx] /dz2)\n",
    "    print(\"T[\",zv_idx,\"] = \",num,\"/\",deno, \" = \",num/deno)\n",
    "    "
   ]
  },
  {
   "cell_type": "markdown",
   "metadata": {},
   "source": [
    "### Free Energy plots from log"
   ]
  },
  {
   "cell_type": "code",
   "execution_count": null,
   "metadata": {},
   "outputs": [],
   "source": [
    "f= open(\"DAonGPU/log\",'r')\n",
    "l=f.readline()\n",
    "beta=[]\n",
    "freeEn=[]\n",
    "while l:\n",
    "    if(l[0]=='$'):\n",
    "#         print(l)\n",
    "        item=l[:-1].split(',')\n",
    "#         print(item[1],item[2])\n",
    "        beta.append(float(item[2]))\n",
    "        freeEn.append(float(item[3]))\n",
    "    l=f.readline()\n",
    "minm=min(freeEn)\n",
    "freeEn=np.array(freeEn)-minm +1.0\n",
    "f.close()"
   ]
  },
  {
   "cell_type": "code",
   "execution_count": null,
   "metadata": {},
   "outputs": [],
   "source": [
    "plt.scatter(beta,freeEn)\n",
    "# plt.xscale('log')\n",
    "# plt.yscale('log')"
   ]
  },
  {
   "cell_type": "markdown",
   "metadata": {},
   "source": [
    "## Vertex plots from reading log"
   ]
  },
  {
   "cell_type": "code",
   "execution_count": null,
   "metadata": {},
   "outputs": [],
   "source": [
    "def get_vertexMatches(vertexs_truth,vertexs_set):\n",
    "    M=len(vertexs_truth)\n",
    "    N=len(vertexs_set)\n",
    "    matched_vertex=[-1 for i in range(M)]\n",
    "    matched_vertexR2=[-1 for i in range(M)]\n",
    "    matched_vertexR2X=[-1 for i in range(M)]\n",
    "    \n",
    "    set_matched_vertex=np.zeros(N)-1\n",
    " \n",
    "    deltaR2s=np.zeros(N*M)\n",
    "    deltaR2sX=np.zeros(N*M)\n",
    "    for idx in range(M):\n",
    "        z=vertexs_truth[idx]\n",
    "        for j in range(N):\n",
    "            deltaR2s[idx*N+j]=abs(vertexs_set[j]-z)\n",
    "            deltaR2sX[idx*N+j]=abs(vertexs_set[j]-z)\n",
    "\n",
    "    sorted_idx=np.argsort(deltaR2s)\n",
    "    trk_found=0\n",
    "    for idx in sorted_idx:\n",
    "    #    if(deltaR2s[idx]>deltaRCUT):\n",
    "    #        break;\n",
    "        x=int(idx/N)\n",
    "        if matched_vertex[x]!=-1:\n",
    "            continue\n",
    "        y= idx % N\n",
    "        if set_matched_vertex[y]!=-1:\n",
    "            continue\n",
    "        set_matched_vertex[y]=x\n",
    "        if y<0 :    #sanity check\n",
    "            print(\"\\n\\n oh ho !! problem !! \\n\\n\")\n",
    "        matched_vertex[x]=y\n",
    "        matched_vertexR2[x]=deltaR2s[idx]\n",
    "        matched_vertexR2X[x]=deltaR2sX[idx]\n",
    "        trk_found+=1\n",
    "        if trk_found==M:\n",
    "            break\n",
    "    return matched_vertex,matched_vertexR2,matched_vertexR2X"
   ]
  },
  {
   "cell_type": "code",
   "execution_count": null,
   "metadata": {},
   "outputs": [],
   "source": [
    "f= open(\"DAonGPU/log\",'r')\n",
    "l=f.readline()\n",
    "count=0\n",
    "zVtx=[]\n",
    "zVtx_count=[]\n",
    "while l:\n",
    "    if(l[0]=='@'):\n",
    "        count+=1\n",
    "        zVtx.append([])\n",
    "        zVtx_count.append(0)\n",
    "        l=f.readline()\n",
    "        continue\n",
    "    if(l[0]=='*'):\n",
    "#         print(l)\n",
    "        item=l[:-1].split(',')\n",
    "#         print(item[1],item[2])\n",
    "        zVtx[-1].append(float(item[1]))\n",
    "        zVtx_count[-1]+=1\n",
    "    l=f.readline()\n",
    "\n",
    "print(len(zVtx))\n",
    "f.close()\n",
    "nevents=len(zVtx)"
   ]
  },
  {
   "cell_type": "code",
   "execution_count": null,
   "metadata": {},
   "outputs": [],
   "source": [
    "f=open('DAonGPU/tracks.csv','r')\n",
    "COUNT_MAX=nevents\n",
    "\n",
    "\n",
    "l=f.readline()\n",
    "evt_idx=[]\n",
    "count=0\n",
    "zt=[]\n",
    "zt_count=[]\n",
    "while l:\n",
    "    if l[0]=='#':\n",
    "        l=f.readline()\n",
    "        continue\n",
    "    if l[0]=='@':\n",
    "        count+=1\n",
    "        zt.append([])\n",
    "        zt_count.append(0)\n",
    "        l=f.readline()\n",
    "        continue\n",
    "    if count >= COUNT_MAX:\n",
    "        break\n",
    "    item=l[:-1].split(',')\n",
    "    zt[-1].append(float(item[1]))\n",
    "    zt_count[-1]+=1\n",
    "    l=f.readline()\n",
    "print(\"tracks read for \",len(zt),\" events\")\n",
    "f.close()\n",
    "\n",
    "f=open('DAonGPU/vertices.csv','r')\n",
    "\n",
    "\n",
    "l=f.readline()\n",
    "evt_idx=[]\n",
    "count=0\n",
    "zv=[]\n",
    "zv_err=[]\n",
    "zv_count=[]\n",
    "while l:\n",
    "    if l[0]=='#':\n",
    "        l=f.readline()\n",
    "        continue\n",
    "    if l[0]=='@':\n",
    "        count+=1\n",
    "        zv.append([])\n",
    "        zv_err.append([])\n",
    "        zv_count.append(0)\n",
    "        l=f.readline()\n",
    "        continue\n",
    "    if count >= COUNT_MAX:\n",
    "        break\n",
    "    item=l[:-1].split(',')\n",
    "    zv[-1].append(float(item[1]))\n",
    "    zv_err[-1].append(float(item[2]))\n",
    "    zv_count[-1]+=1\n",
    "    l=f.readline()\n",
    "print(\"vertices read for \",len(zv),\" events\")\n",
    "f.close()\n",
    "    "
   ]
  },
  {
   "cell_type": "code",
   "execution_count": null,
   "metadata": {},
   "outputs": [],
   "source": [
    "get_trackMatches(zv[0],zVtx[0])"
   ]
  },
  {
   "cell_type": "code",
   "execution_count": null,
   "metadata": {},
   "outputs": [],
   "source": [
    "deltaZ=[]\n",
    "dN=[]\n",
    "zVertexReco=[]\n",
    "zVertexDAonGPU=[]\n",
    "for i in range(nevents):\n",
    "    if(i>2000):\n",
    "        break\n",
    "    nv_DAonGPU=len(zVtx[i])\n",
    "    nv_reco   =len(zv[i])\n",
    "    dN.append(nv_DAonGPU-nv_reco)\n",
    "    zVtx[i]=np.array(zVtx[i])\n",
    "    zv[i]=np.array(zv[i])\n",
    "    dmat=[]\n",
    "    m,dm,dzm=get_trackMatches(zv[i],zVtx[i])\n",
    "    for j in dm:\n",
    "        deltaZ.append(j)\n",
    "    for j in zVtx[i]:\n",
    "        zVertexReco.append(j)\n",
    "    for j in zv[i]:\n",
    "        zVertexDAonGPU.append(j)\n",
    "zVertexReco=np.ndarray.flatten(np.array(zVertexReco))\n",
    "zVertexDAonGPU=np.ndarray.flatten(np.array(zVertexDAonGPU))"
   ]
  },
  {
   "cell_type": "code",
   "execution_count": null,
   "metadata": {},
   "outputs": [],
   "source": [
    "plt.figure(figsize=(7,5))\n",
    "plt.hist(deltaZ,bins=100)\n",
    "plt.title(\" Z on GPU DA -  Z vtx on CPU DA  (-1 no match)\")\n",
    "plt.savefig(\"deltaZ.png\")"
   ]
  },
  {
   "cell_type": "code",
   "execution_count": null,
   "metadata": {},
   "outputs": [],
   "source": [
    "plt.figure(figsize=(7,5))\n",
    "x=plt.hist(dN,bins=7,range=(-3.5,3.5))\n",
    "plt.title(\"# vtx on GPU DA - # vtx on CPU DA \")\n",
    "plt.savefig(\"deltaN.png\")"
   ]
  },
  {
   "cell_type": "code",
   "execution_count": null,
   "metadata": {},
   "outputs": [],
   "source": [
    "plt.figure(figsize=(7,5))\n",
    "plt.hist(zVertexReco,histtype='step',label='DA on CPU')\n",
    "plt.hist(zVertexDAonGPU,histtype='step',label='DA on GPU')\n",
    "plt.legend()\n",
    "plt.title('vertex z distribution')\n",
    "plt.savefig(\"zDistribution.png\")"
   ]
  },
  {
   "cell_type": "code",
   "execution_count": null,
   "metadata": {},
   "outputs": [],
   "source": []
  },
  {
   "cell_type": "code",
   "execution_count": null,
   "metadata": {},
   "outputs": [],
   "source": []
  },
  {
   "cell_type": "code",
   "execution_count": null,
   "metadata": {},
   "outputs": [],
   "source": [
    "idx=0\n",
    "\n",
    "x=np.arange(zt_count[idx])\n",
    "y=np.array(zt[idx])\n",
    "print(\"tolal number of tracks = \",zt_count[idx])\n",
    "plt.scatter(x,y)\n",
    "\n",
    "\n",
    "xv=np.arange(zVtx_count[idx])\n",
    "yv=np.array(zVtx[idx])\n",
    "print(\"tolal number of Verttices = \",zVtx_count[idx])\n",
    "plt.scatter(xv,yv)"
   ]
  },
  {
   "cell_type": "code",
   "execution_count": null,
   "metadata": {},
   "outputs": [],
   "source": [
    "idx=0\n",
    "x=np.arange(zt_count[idx])\n",
    "y=np.array(zt[idx])\n",
    "plt.scatter(x,y)\n",
    "\n",
    "xv=np.arange(zVtx_count[idx])\n",
    "yv=np.array(zVtx[idx])\n",
    "\n",
    "maxA=6\n",
    "plt.scatter(xv[:maxA],yv[:maxA])"
   ]
  }
 ],
 "metadata": {
  "kernelspec": {
   "display_name": "Python 3",
   "language": "python",
   "name": "python3"
  },
  "language_info": {
   "codemirror_mode": {
    "name": "ipython",
    "version": 3
   },
   "file_extension": ".py",
   "mimetype": "text/x-python",
   "name": "python",
   "nbconvert_exporter": "python",
   "pygments_lexer": "ipython3",
   "version": "3.8.6"
  }
 },
 "nbformat": 4,
 "nbformat_minor": 4
}
