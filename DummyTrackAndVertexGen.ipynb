{
 "cells": [
  {
   "cell_type": "markdown",
   "metadata": {},
   "source": [
    "# Generate Dummy Track and Vertex files"
   ]
  },
  {
   "cell_type": "code",
   "execution_count": null,
   "metadata": {},
   "outputs": [],
   "source": [
    "import numpy as np\n",
    "import matplotlib.pyplot as plt\n",
    "import TrackVtxGen as tv_gen"
   ]
  },
  {
   "cell_type": "markdown",
   "metadata": {},
   "source": [
    "### Parameter Setup"
   ]
  },
  {
   "cell_type": "code",
   "execution_count": null,
   "metadata": {},
   "outputs": [],
   "source": [
    "RSEED                      =   0\n",
    "  \n",
    "PU_DISTRIBUTION_SIGMA      =  1\n",
    "PU_DISTRIBUTION_MEAN       =  10\n",
    "\n",
    "# VERTEX_GEN_MODE                 = 'dZ'    # generate vertexes separetated by a distance D\n",
    "VERTEX_GEN_MODE                 = 'Z'     # generate vertices in a specific distibution\n",
    "\n",
    "VERTEX_Z_DISTRIBUTION_TYPE       = 'uniform'  # for Z mode\n",
    "# VERTEX_Z_DISTRIBUTION_TYPE       = 'gaus'   # for Z mode\n",
    "VERTEX_Z_DISTRIBUTION_WIDTH      = 20        # for Z mode\n",
    "VERTEX_Z_DISTRIBUTION_SIGMA      = 30        # for Z mode , gaus\n",
    "VERTEX_Z_DISTRIBUTION_MEAN       = 0        # for Z mode\n",
    "\n",
    "VERTEX_dZ_DISTRIBUTION_TYPE       = 'uniform'  # for dZ mode\n",
    "VERTEX_dZ_DISTRIBUTION_WIDTH      =  1.0  # for dZ mode\n",
    "VERTEX_dZ_DISTRIBUTION_MEAN       =  6.0  # for dZ mode\n",
    "\n",
    "\n",
    "TRACK_Z_DISTRIBUTION_SIGMA      =  0.15\n",
    "TRACK_Z_DISTRIBUTION_BIAS       =  0\n",
    "\n",
    "TRACKS_PER_VTX_SIGMA  = 20\n",
    "TRACKS_PER_VTX_MEAN   = 40\n",
    "\n",
    "genDict={}\n",
    "\n",
    "genDict['PU_DISTRIBUTION_SIGMA']          =    PU_DISTRIBUTION_SIGMA\n",
    "genDict['PU_DISTRIBUTION_MEAN']           =    PU_DISTRIBUTION_MEAN             \n",
    "\n",
    "\n",
    "genDict['VERTEX_GEN_MODE']                 =    VERTEX_GEN_MODE   \n",
    "\n",
    "genDict['VERTEX_dZ_DISTRIBUTION_TYPE']     =    VERTEX_dZ_DISTRIBUTION_TYPE    \n",
    "genDict['VERTEX_dZ_DISTRIBUTION_WIDTH']    =    VERTEX_dZ_DISTRIBUTION_WIDTH\n",
    "genDict['VERTEX_dZ_DISTRIBUTION_MEAN']     =    VERTEX_dZ_DISTRIBUTION_MEAN\n",
    "\n",
    "genDict['VERTEX_Z_DISTRIBUTION_MEAN']     =    VERTEX_Z_DISTRIBUTION_MEAN             \n",
    "genDict['VERTEX_Z_DISTRIBUTION_TYPE']     =    VERTEX_Z_DISTRIBUTION_TYPE\n",
    "genDict['VERTEX_Z_DISTRIBUTION_WIDTH']    =    VERTEX_Z_DISTRIBUTION_WIDTH  \n",
    "genDict['VERTEX_Z_DISTRIBUTION_SIGMA']    =    VERTEX_Z_DISTRIBUTION_SIGMA      \n",
    "\n",
    "genDict['TRACK_Z_DISTRIBUTION_SIGMA']     =    TRACK_Z_DISTRIBUTION_SIGMA       \n",
    "genDict['TRACK_Z_DISTRIBUTION_BIAS']      =    TRACK_Z_DISTRIBUTION_BIAS        \n",
    "\n",
    "genDict['TRACKS_PER_VTX_SIGMA']           =    TRACKS_PER_VTX_SIGMA             \n",
    "genDict['TRACKS_PER_VTX_MEAN']            =    TRACKS_PER_VTX_MEAN   \n",
    "\n",
    "             \n",
    "genDict['RSEED']                          =    RSEED"
   ]
  },
  {
   "cell_type": "markdown",
   "metadata": {},
   "source": [
    "### Generate Sample      "
   ]
  },
  {
   "cell_type": "code",
   "execution_count": null,
   "metadata": {},
   "outputs": [],
   "source": [
    "NEVENTS = 300\n",
    "genData=tv_gen.generateTrkVtxData(NEVENTS,genDict)\n",
    "track_z     =    genData['track_z']  \n",
    "track_dz    =    genData['track_dz'] \n",
    "vtx_z       =    genData['vtx_z']    \n",
    "nv_list     =    genData['nv_list']  \n",
    "ntrk_list   =    genData['nt_list']  \n",
    "nt_list     =    ntrk_list"
   ]
  },
  {
   "cell_type": "markdown",
   "metadata": {},
   "source": [
    "### Validation"
   ]
  },
  {
   "cell_type": "code",
   "execution_count": null,
   "metadata": {},
   "outputs": [],
   "source": [
    "f=tv_gen.plot_gen_distributions(nv_list,vtx_z,ntrk_list,track_dz)"
   ]
  },
  {
   "cell_type": "markdown",
   "metadata": {},
   "source": [
    "##### Plot tracks for a vtx idx"
   ]
  },
  {
   "cell_type": "code",
   "execution_count": null,
   "metadata": {},
   "outputs": [],
   "source": [
    "v_idx=2\n",
    "tv_gen.plot_tracks_for_vtxId(v_idx,ntrk_list,vtx_z,track_z)"
   ]
  },
  {
   "cell_type": "markdown",
   "metadata": {},
   "source": [
    "##### Plot vertex and tracks for an event"
   ]
  },
  {
   "cell_type": "code",
   "execution_count": null,
   "metadata": {},
   "outputs": [],
   "source": [
    "evt_idx=0\n",
    "tv_gen.plot_event_details(evt_idx,nv_list,ntrk_list,vtx_z,track_z)"
   ]
  },
  {
   "cell_type": "markdown",
   "metadata": {},
   "source": [
    "## Write To File"
   ]
  },
  {
   "cell_type": "code",
   "execution_count": null,
   "metadata": {},
   "outputs": [],
   "source": [
    "vfname=\"vertices.csv.pu10uni\"\n",
    "tfname=\"tracks.csv.pu10uni\"\n",
    "\n",
    "\n",
    "vf=open(vfname,'w')\n",
    "vf.write(\"#   @evt,numtracks\\n\")\n",
    "vf.write(\"#   vtxIdx,zVtx,dZ2Vtx\\n\")\n",
    "\n",
    "tf=open(tfname,'w')\n",
    "tf.write(\"#   @evt,numVtxs\\n\")\n",
    "tf.write(\"#   track_idx,ztrack,zErrTrack,tipTrack,ptTrack,ndofTrack\\n\")\n",
    "\n",
    "trk_offsets=0\n",
    "vtx_offsets=0\n",
    "for evtid in range(len(nv_list)):\n",
    "    \n",
    "    nv=nv_list[evtid]\n",
    "    vf.write(\"@\"+str(evtid)+\",\"+str(nv)+\"\\n\")\n",
    "    vtx_id=np.random.permutation(nv)\n",
    "    for i in range(nv):\n",
    "        vf.write(str(i)+\",\"+str(vtx_z[vtx_offsets+vtx_id[i]])+\",1.0\\n\")\n",
    "    \n",
    "    nt=np.sum(nt_list[vtx_offsets:vtx_offsets+nv])\n",
    "    \n",
    "    tf.write(\"@\"+str(evtid)+\",\"+str(nt)+\"\\n\")\n",
    "    \n",
    "    trk_id=np.random.permutation(nt)\n",
    "    for i in range(nt):\n",
    "        tf.write(str(i)+\",\"+str(track_z[trk_offsets+trk_id[i]])+\",1.0,1.0,1.0,1.0,1\\n\")\n",
    "        \n",
    "    vtx_offsets+=nv\n",
    "    trk_offsets+=nt\n",
    "    \n",
    "vf.close()\n",
    "tf.close()"
   ]
  }
 ],
 "metadata": {
  "kernelspec": {
   "display_name": "Python 3",
   "language": "python",
   "name": "python3"
  },
  "language_info": {
   "codemirror_mode": {
    "name": "ipython",
    "version": 3
   },
   "file_extension": ".py",
   "mimetype": "text/x-python",
   "name": "python",
   "nbconvert_exporter": "python",
   "pygments_lexer": "ipython3",
   "version": "3.8.6"
  }
 },
 "nbformat": 4,
 "nbformat_minor": 4
}
